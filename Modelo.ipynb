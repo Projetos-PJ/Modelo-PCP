{
 "cells": [
  {
   "cell_type": "markdown",
   "metadata": {},
   "source": [
    "#### Import das bibliotecas que serão utilizadas e da base de dados da PCP"
   ]
  },
  {
   "cell_type": "code",
   "execution_count": 18,
   "metadata": {},
   "outputs": [],
   "source": [
    "import pandas as pd"
   ]
  },
  {
   "cell_type": "code",
   "execution_count": null,
   "metadata": {},
   "outputs": [
    {
     "name": "stdout",
     "output_type": "stream",
     "text": [
      "dict_keys(['NCiv', 'NCon', 'NDados', 'NI', 'NTec', 'Projetos Internos', 'Respostas ao formulário 2'])\n"
     ]
    }
   ],
   "source": [
    "pcp = pd.read_excel(r\"Ambiente-Modelo\\Include\\PCP Auto.xlsx\", sheet_name=None)\n",
    "print(pcp.keys())\n",
    "#teste de mudança"
   ]
  },
  {
   "cell_type": "code",
   "execution_count": 22,
   "metadata": {},
   "outputs": [
    {
     "name": "stdout",
     "output_type": "stream",
     "text": [
      "               Membro             Projeto 1  \\\n",
      "0        luis.machado                     -   \n",
      "1      matheus.becker                     -   \n",
      "2        pedro.ferraz  App + Site Luciana 2   \n",
      "3   eduardo.goncalves                     -   \n",
      "4       enrico.soares                     -   \n",
      "5   joaogabriel.costa                     -   \n",
      "6         allan.doval                     -   \n",
      "7         lucas.siomi                     -   \n",
      "8     henry.mochikawa                     -   \n",
      "9        kelly.flores                     -   \n",
      "10     vinicius.lucio                     -   \n",
      "\n",
      "   Semanas até o fim estimado do Projeto 1 Portfólio do Projeto 1 Projeto 2  \\\n",
      "0                                        -                      -         -   \n",
      "1                                        -                      -         -   \n",
      "2                                       38          Escopo Aberto         -   \n",
      "3                                        -                      -         -   \n",
      "4                                        -                      -         -   \n",
      "5                                        -                      -         -   \n",
      "6                                        -                      -         -   \n",
      "7                                        -                      -         -   \n",
      "8                                        -                      -         -   \n",
      "9                                        -                      -         -   \n",
      "10                                       -                      -         -   \n",
      "\n",
      "   Semanas até o fim estimado do Projeto 2 Portfólio do Projeto 2 Projeto 3  \\\n",
      "0                                        -                      -         -   \n",
      "1                                        -                      -         -   \n",
      "2                                        -                      -         -   \n",
      "3                                        -                      -         -   \n",
      "4                                        -                      -         -   \n",
      "5                                        -                      -         -   \n",
      "6                                        -                      -         -   \n",
      "7                                        -                      -         -   \n",
      "8                                        -                      -         -   \n",
      "9                                        -                      -         -   \n",
      "10                                       -                      -         -   \n",
      "\n",
      "   Semanas até o fim estimado do Projeto 3 Portfólio do Projeto 3  ...  \\\n",
      "0                                        -                      -  ...   \n",
      "1                                        -                      -  ...   \n",
      "2                                        -                      -  ...   \n",
      "3                                        -                      -  ...   \n",
      "4                                        -                      -  ...   \n",
      "5                                        -                      -  ...   \n",
      "6                                        -                      -  ...   \n",
      "7                                        -                      -  ...   \n",
      "8                                        -                      -  ...   \n",
      "9                                        -                      -  ...   \n",
      "10                                       -                      -  ...   \n",
      "\n",
      "    Validação média do Projeto 2  Validação média do Projeto 3  \\\n",
      "0                            NaN                           NaN   \n",
      "1                            NaN                           NaN   \n",
      "2                            NaN                           NaN   \n",
      "3                            NaN                           NaN   \n",
      "4                            NaN                           NaN   \n",
      "5                            NaN                           NaN   \n",
      "6                            NaN                           NaN   \n",
      "7                            NaN                           NaN   \n",
      "8                            NaN                           NaN   \n",
      "9                            NaN                           NaN   \n",
      "10                           NaN                           NaN   \n",
      "\n",
      "    Área de atuação  Cargo no núcleo  Cargo MKT  Cargo WI  N° Aprendizagens  \\\n",
      "0               NaN              NaN          -         -                 -   \n",
      "1               NaN              NaN          -         -                 -   \n",
      "2               NaN              NaN          -         -                 -   \n",
      "3               NaN              NaN          -         -                 -   \n",
      "4               NaN              NaN          -         -                 -   \n",
      "5               NaN              NaN          -         -                 1   \n",
      "6               NaN              NaN          -         -                 -   \n",
      "7               NaN              NaN          -         -                 -   \n",
      "8               NaN              NaN          -         -                 -   \n",
      "9               NaN              NaN          -         -                 -   \n",
      "10              NaN              NaN          -         -                 -   \n",
      "\n",
      "    Assessoria/Liderança  Equipe de PS  Semanas até o fim do ciclo atual  \n",
      "0                      -             -                                 4  \n",
      "1                      -             -                                 4  \n",
      "2                      -             -                                 4  \n",
      "3                      -             -                                 4  \n",
      "4                      -             -                                 4  \n",
      "5                      -             -                                 4  \n",
      "6                      -             -                                 4  \n",
      "7                      -             -                                 4  \n",
      "8                      -             -                                 4  \n",
      "9                      -             -                                 4  \n",
      "10                     -             -                                 4  \n",
      "\n",
      "[11 rows x 32 columns]\n"
     ]
    }
   ],
   "source": [
    "def nucleo_func(nucleo_digitado):\n",
    "    nucleo_digitado = nucleo_digitado.replace(\" \", \"\").lower()\n",
    "    for pcp_sheet in pcp.keys():\n",
    "        if nucleo_digitado == pcp_sheet.replace(\" \", \"\").lower():\n",
    "            pcp_nucleo = pcp[pcp_sheet]\n",
    "            return pcp_nucleo\n",
    "    return None\n",
    "\n",
    "nucleo = input(\"Qual é o seu núcleo\")\n",
    "result = nucleo_func(nucleo)\n",
    "print(result)"
   ]
  },
  {
   "cell_type": "code",
   "execution_count": null,
   "metadata": {},
   "outputs": [],
   "source": []
  }
 ],
 "metadata": {
  "kernelspec": {
   "display_name": "Ambiente-Modelo",
   "language": "python",
   "name": "python3"
  },
  "language_info": {
   "codemirror_mode": {
    "name": "ipython",
    "version": 3
   },
   "file_extension": ".py",
   "mimetype": "text/x-python",
   "name": "python",
   "nbconvert_exporter": "python",
   "pygments_lexer": "ipython3",
   "version": "3.12.7"
  }
 },
 "nbformat": 4,
 "nbformat_minor": 2
}
