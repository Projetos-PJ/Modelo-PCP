{
  "cells": [
    {
      "cell_type": "code",
      "execution_count": null,
      "metadata": {
        "id": "xIBEHp3kd15y"
      },
      "outputs": [],
      "source": [
        "import pandas as pd\n",
        "import numpy as np\n",
        "import os\n",
        "from datetime import datetime"
      ]
    },
    {
      "cell_type": "code",
      "execution_count": null,
      "metadata": {
        "id": "Cr1rzIXV58ve"
      },
      "outputs": [],
      "source": [
        "# Define a data de início do novo projeto (entrada do sistema)\n",
        "inicio_novo_projeto = pd.Timestamp(\"\")\n",
        "portfolio_novo_projeto = ()"
      ]
    },
    {
      "cell_type": "code",
      "execution_count": null,
      "metadata": {
        "id": "xof1maRFd15z"
      },
      "outputs": [],
      "source": [
        "tabela_pcp = pd.read('')"
      ]
    },
    {
      "cell_type": "code",
      "execution_count": null,
      "metadata": {},
      "outputs": [],
      "source": [
        "# Converte datas para datetime\n",
        "date_cols = [f'Fim previsto do Projeto {i}' for i in range(1, 5)] + \\\n",
        "            [f'Fim estimado do Projeto {i}' for i in range(1, 5)] + \\\n",
        "            [f'Fim do Projeto Interno {i}' for i in range(1, 5)]\n",
        "for col in date_cols:\n",
        "    tabela_pcp[col] = pd.to_datetime(tabela_pcp[col], errors='coerce')"
      ]
    },
    {
      "cell_type": "code",
      "execution_count": null,
      "metadata": {
        "id": "fzbKUZEDhmgc"
      },
      "outputs": [],
      "source": [
        "# Lista de cargos a serem removidos\n",
        "cargos_excluidos = ['Líder de Outbound', 'Coordenador de Negócios', 'Coordenador de Inovação Comercial', 'Gerente Comercial',\n",
        "                    'Coordenador de Projetos', 'Coordenador de Inovação de Projetos', 'Gerente de Projetos']\n",
        "\n",
        "# Filtrando a tabela para remover os cargos indesejados\n",
        "tabela_pcp = tabela_pcp[~tabela_pcp['Cargo no núcleo'].isin(cargos_excluidos)]\n"
      ]
    },
    {
      "cell_type": "code",
      "execution_count": null,
      "metadata": {},
      "outputs": [],
      "source": [
        "# Calcula disponibilidade estimada do analista\n",
        "# Comecamos com 30h, diminuimos a partir de fatores comoo alocacoes de aprendizagem, assessorias, projetos\n",
        "def calcular_disponibilidade(analista, data_inicio_novo_projeto):\n",
        "    horas_disponiveis = 30\n",
        "\n",
        "    # Aprendizagem = 5h, assessoria = 10h\n",
        "    horas_disponiveis -= analista.get('N° Aprendizagens', 0) * 5\n",
        "    horas_disponiveis -= analista.get('N° Assessoria', 0) * 10\n",
        "\n",
        "    # Ajusta disponibilidade conforme proximidade da data de fim de um projeto (projetos 1-4)\n",
        "    # Se falta mais de 2 semanas, 10h de alocacao\n",
        "    # So consideramos 6 horas de alocacao caso falte entre 1-2 semanas\n",
        "    # Para menos de 1 semana, consideramos nao alocacao\n",
        "    for i in range(1, 5):\n",
        "        fim_projeto = analista.get(f'Fim estimado do Projeto {i}', analista.get(f'Fim previsto do Projeto {i}', None))\n",
        "\n",
        "        if pd.notnull(fim_projeto):\n",
        "            dias_restantes = (fim_projeto - data_inicio_novo_projeto).days\n",
        "            if dias_restantes > 14:\n",
        "                horas_disponiveis -= 10\n",
        "            if 7 < dias_restantes <= 14:\n",
        "                horas_disponiveis -= 6\n",
        "\n",
        "    # Projeto interno = 5h\n",
        "    for i in range(1, 5):\n",
        "        fim_projeto_interno = analista.get(f'Fim do Projeto Interno {i}')\n",
        "        if pd.notnull(fim_projeto_interno):\n",
        "            if fim_projeto_interno > data_inicio_novo_projeto:\n",
        "                horas_disponiveis -= 5\n",
        "        elif pd.notnull(analista.get(f'Início do Projeto Interno {i}')):\n",
        "            horas_disponiveis -= 5\n",
        "             \n",
        "\n",
        "    # Ajusta conforme cargo no núcleo\n",
        "    cargo = str(analista.get('Cargo no núcleo', '')).strip().upper()\n",
        "    if cargo in ['SDR', 'HUNTER']:\n",
        "        horas_disponiveis -= 10\n",
        "    elif cargo == 'ANALISTA SÊNIOR':\n",
        "        horas_disponiveis -= 5\n",
        "\n",
        "    return horas_disponiveis"
      ]
    },
    {
      "cell_type": "code",
      "execution_count": null,
      "metadata": {
        "id": "zz3IoJzSkr2Z"
      },
      "outputs": [],
      "source": [
        "# Função para calcular a Afinidade (nota de 0 a 10)\n",
        "#Usamos a satisfacao esperada do portfolio, alem de capacidade e saude mental do analista\n",
        "def calcular_afinidade(analista, portfolio_novo_projeto):\n",
        "    # Satisfação esperada = Satisfação Média com o Portfólio\n",
        "    satisfacao_total = 0\n",
        "    projetos_encontrados = 0\n",
        "\n",
        "    for i in range(1, 5):\n",
        "        portfolio_projeto = analista.get(f'Portfólio do Projeto {i}', '').strip().upper()\n",
        "        if portfolio_projeto == portfolio_novo_projeto.strip().upper():\n",
        "            satisfacao_total += analista.get(f'Satisfação com o Projeto {i}', 8)  # Assume 8 se não informado\n",
        "            projetos_encontrados += 1\n",
        "\n",
        "    if projetos_encontrados > 0:\n",
        "        satisfacao_portfolio = satisfacao_total / projetos_encontrados\n",
        "    else:\n",
        "        satisfacao_portfolio = 8  # Assume 8 se nenhum projeto correspondente for encontrado\n",
        "\n",
        "    # Capacidade esperada = Validação média do Projeto\n",
        "    validacao_projetos = [analista.get(f'Validação do Projeto {i}', np.nan) for i in range(1, 5)]\n",
        "    capacidade = (pd.Series(validacao_projetos).mean(skipna=True) if not pd.isna(validacao_projetos).all() else 0) * 2\n",
        "\n",
        "    # Saúde mental = Média entre percepção da carga e saúde mental na PJ\n",
        "    sentimento_carga = analista.get('Como se sente em relação à carga', '').strip().upper()\n",
        "    sentimento_map = {'SUBALOCADO': 10, 'ESTOU SATISFEITO': 5, 'SUPERALOCADO': 1}\n",
        "    sentimento_nota = sentimento_map.get(sentimento_carga, 5)  # Se não estiver mapeado, assume 5\n",
        "    saude_mental = analista.get('Saúde mental na PJ', 5)\n",
        "\n",
        "    saude_final = (sentimento_nota + saude_mental) / 2\n",
        "\n",
        "    # Nota final de afinidade é a média dos três critérios\n",
        "    afinidade = (satisfacao_portfolio + capacidade + saude_final) / 3\n",
        "    return afinidade"
      ]
    },
    {
      "cell_type": "code",
      "execution_count": null,
      "metadata": {
        "id": "4jOq-sPN56e-"
      },
      "outputs": [],
      "source": [
        "# Calcula disponibilidade\n",
        "tabela_pcp['Disponibilidade'] = tabela_pcp.apply(lambda row: calcular_disponibilidade(row, inicio_novo_projeto), axis=1)"
      ]
    },
    {
      "cell_type": "code",
      "execution_count": null,
      "metadata": {
        "id": "hDtbxFbG6Ht1"
      },
      "outputs": [],
      "source": [
        "# Calcula afinidade\n",
        "tabela_pcp['Afinidade'] = tabela_pcp.apply(calcular_afinidade, axis=1)"
      ]
    },
    {
      "cell_type": "code",
      "execution_count": null,
      "metadata": {
        "id": "F_qglCuG6Hmt"
      },
      "outputs": [],
      "source": [
        "# Ordena os membros pela Disponibilidade e Afinidade (ambas igualmente importantes)\n",
        "tabela_pcp = tabela_pcp.sort_values(by=['Disponibilidade', 'Afinidade'], ascending=[False, False])"
      ]
    },
    {
      "cell_type": "code",
      "execution_count": null,
      "metadata": {
        "id": "5xYT1F5u6PrG"
      },
      "outputs": [],
      "source": [
        "# Exibe as colunas principais\n",
        "print(\"Membros sugeridos (ordenados pela pontuação):\")\n",
        "print(tabela_pcp[['Membro', 'Disponibilidade', 'Afinidade']])"
      ]
    }
  ],
  "metadata": {
    "colab": {
      "provenance": []
    },
    "kernelspec": {
      "display_name": "Python 3",
      "language": "python",
      "name": "python3"
    },
    "language_info": {
      "codemirror_mode": {
        "name": "ipython",
        "version": 3
      },
      "file_extension": ".py",
      "mimetype": "text/x-python",
      "name": "python",
      "nbconvert_exporter": "python",
      "pygments_lexer": "ipython3",
      "version": "3.12.6"
    }
  },
  "nbformat": 4,
  "nbformat_minor": 0
}
