{
 "cells": [
  {
   "cell_type": "markdown",
   "metadata": {},
   "source": [
    "#### Import das bibliotecas que serão utilizadas e da base de dados da PCP"
   ]
  },
  {
   "cell_type": "code",
   "execution_count": 1,
   "metadata": {},
   "outputs": [],
   "source": [
    "import pandas as pd"
   ]
  },
  {
   "cell_type": "code",
<<<<<<< HEAD
   "execution_count": 2,
=======
   "execution_count": null,
>>>>>>> 891c75e95b156298a8e9d33a463bc6515a9e9313
   "metadata": {},
   "outputs": [
    {
     "name": "stdout",
     "output_type": "stream",
     "text": [
      "dict_keys(['NCiv', 'NCon', 'NDados', 'NI', 'NTec', 'Projetos Internos', 'Respostas ao formulário 2'])\n"
     ]
    }
   ],
   "source": [
    "pcp = pd.read_excel(r\"Ambiente-Modelo\\Include\\PCP Auto.xlsx\", sheet_name=None)\n",
    "print(pcp.keys())\n",
    "#teste de mudança"
   ]
  },
  {
   "cell_type": "code",
   "execution_count": 3,
   "metadata": {},
   "outputs": [
    {
     "name": "stdout",
     "output_type": "stream",
     "text": [
      "None\n"
     ]
    }
   ],
   "source": [
    "def nucleo_func(nucleo_digitado):\n",
    "    nucleo_digitado = nucleo_digitado.replace(\" \", \"\").lower()\n",
    "    for pcp_sheet in pcp.keys():\n",
    "        if nucleo_digitado == pcp_sheet.replace(\" \", \"\").lower():\n",
    "            pcp_nucleo = pcp[pcp_sheet]\n",
    "            return pcp_nucleo\n",
    "    return None\n",
    "\n",
    "nucleo = input(\"Qual é o seu núcleo\")\n",
    "result = nucleo_func(nucleo)\n",
    "print(result)"
   ]
  },
  {
   "cell_type": "code",
   "execution_count": null,
   "metadata": {},
   "outputs": [],
   "source": []
  }
 ],
 "metadata": {
  "kernelspec": {
   "display_name": "Ambiente-Modelo",
   "language": "python",
   "name": "python3"
  },
  "language_info": {
   "codemirror_mode": {
    "name": "ipython",
    "version": 3
   },
   "file_extension": ".py",
   "mimetype": "text/x-python",
   "name": "python",
   "nbconvert_exporter": "python",
   "pygments_lexer": "ipython3",
   "version": "3.12.7"
  }
 },
 "nbformat": 4,
 "nbformat_minor": 2
}
