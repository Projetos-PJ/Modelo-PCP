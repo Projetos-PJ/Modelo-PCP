{
  "cells": [
    {
      "cell_type": "code",
      "execution_count": 2,
      "metadata": {
        "id": "xIBEHp3kd15y"
      },
      "outputs": [],
      "source": [
        "import pandas as pd\n",
        "import numpy as np\n",
        "import os\n",
        "from datetime import datetime"
      ]
    },
    {
      "cell_type": "code",
      "execution_count": null,
      "metadata": {
        "id": "xof1maRFd15z"
      },
      "outputs": [],
      "source": [
        "tabela_pcp = pd.read('')"
      ]
    },
    {
      "cell_type": "code",
      "execution_count": null,
      "metadata": {
        "id": "fzbKUZEDhmgc"
      },
      "outputs": [],
      "source": [
        "# Lista de cargos a serem removidos\n",
        "cargos_excluidos = ['Líder de Outbound', 'Coordenador de Negócios', 'Coordenador de Inovação Comercial', 'Gerente Comercial',\n",
        "                    'Coordenador de Projetos', 'Coordenador de Inovação de Projetos', 'Gerente de Projetos']\n",
        "\n",
        "# Filtrando a tabela para remover os cargos indesejados\n",
        "df_filtrado = df[~df['Cargo no núcleo'].isin(cargos_excluidos)]\n"
      ]
    }
  ],
  "metadata": {
    "kernelspec": {
      "display_name": "Python 3",
      "language": "python",
      "name": "python3"
    },
    "language_info": {
      "codemirror_mode": {
        "name": "ipython",
        "version": 3
      },
      "file_extension": ".py",
      "mimetype": "text/x-python",
      "name": "python",
      "nbconvert_exporter": "python",
      "pygments_lexer": "ipython3",
      "version": "3.12.6"
    },
    "colab": {
      "provenance": []
    }
  },
  "nbformat": 4,
  "nbformat_minor": 0
}